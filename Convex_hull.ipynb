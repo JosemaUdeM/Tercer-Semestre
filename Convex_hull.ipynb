{
 "cells": [
  {
   "cell_type": "code",
   "execution_count": 27,
   "metadata": {
    "collapsed": false
   },
   "outputs": [
    {
     "name": "stdout",
     "output_type": "stream",
     "text": [
      "[(45, 1), (27, 7), (38, 8), (68, 13), (44, 19), (8, 20), (52, 27), (7, 38), (13, 44), (20, 45), (19, 52), (1, 66), (66, 68)]\n"
     ]
    }
   ],
   "source": [
    "import numpy as np\n",
    "\n",
    "Puntos = np.loadtxt('points.dat',dtype = float, delimiter = ' ')\n",
    "\n",
    "\n",
    "\n",
    "def cruz(a,b):\n",
    "    res = [a[1]*b[2] - a[2]*b[1], a[1]*b[0] - a[0]*b[2], a[0]*b[1] - a[1]*b[0]] \n",
    "    return res\n",
    "\n",
    "\n",
    "def analisis(Puntos):\n",
    "    rst = []\n",
    "    \n",
    "    for i in range (len(Puntos)):\n",
    "        for j in range(len(Puntos)):\n",
    "                if i != j:\n",
    "                    rs = 0 \n",
    "                    for k in range(len(Puntos)):\n",
    "                    \n",
    "                        P = Puntos[i]\n",
    "                        Q = Puntos[j]\n",
    "                        R = Puntos[k]\n",
    "\n",
    "                        v = [Q[0]-P[0],Q[1]-P[1],1]\n",
    "                        w = [R[0]-P[0],R[1]-P[1],1]\n",
    "\n",
    "                        res = cruz(v,w)\n",
    "                        \n",
    "                        if res[2]<0 or v == w or v == [0,0,1] or w == [0,0,1]:\n",
    "                            rs += 1\n",
    "                        if rs == len(Puntos):\n",
    "                            rst += [(j,i)]\n",
    "                        \n",
    "\n",
    "    return rst\n",
    "\n",
    "print analisis(Puntos)\n",
    "\n",
    "\n",
    "\n",
    "#O(11)\n",
    "\n",
    "\n",
    "\n",
    "                    "
   ]
  },
  {
   "cell_type": "code",
   "execution_count": null,
   "metadata": {
    "collapsed": true
   },
   "outputs": [],
   "source": []
  }
 ],
 "metadata": {
  "anaconda-cloud": {},
  "kernelspec": {
   "display_name": "Python [conda root]",
   "language": "python",
   "name": "conda-root-py"
  },
  "language_info": {
   "codemirror_mode": {
    "name": "ipython",
    "version": 2
   },
   "file_extension": ".py",
   "mimetype": "text/x-python",
   "name": "python",
   "nbconvert_exporter": "python",
   "pygments_lexer": "ipython2",
   "version": "2.7.12"
  }
 },
 "nbformat": 4,
 "nbformat_minor": 1
}
